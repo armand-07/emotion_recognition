{
 "cells": [
  {
   "cell_type": "markdown",
   "metadata": {},
   "source": [
    "# Data exploration on AffectNet raw dataset\n",
    "First we declare the necessary variables and import the necessary libraries."
   ]
  },
  {
   "cell_type": "code",
   "execution_count": 1,
   "metadata": {},
   "outputs": [],
   "source": [
    "import glob\n",
    "import numpy as np\n",
    "import pandas as pd\n",
    "import os\n",
    "\n",
    "try: \n",
    "    from src import RAW_AffectNet_DIR\n",
    "except ModuleNotFoundError:\n",
    "    print(\"Ensure that src is added to PATH and restart the kernel\")"
   ]
  },
  {
   "cell_type": "code",
   "execution_count": 2,
   "metadata": {},
   "outputs": [
    {
     "name": "stdout",
     "output_type": "stream",
     "text": [
      "/mnt/gpid08/datasets/affectnet/val_set\n"
     ]
    }
   ],
   "source": [
    "validation_path = os.path.join(RAW_AffectNet_DIR, \"val_set\")\n",
    "print(validation_path)"
   ]
  },
  {
   "cell_type": "code",
   "execution_count": 3,
   "metadata": {},
   "outputs": [
    {
     "name": "stdout",
     "output_type": "stream",
     "text": [
      "              val           aro  exp\n",
      "4915  [-0.285714]    [0.404762]  [6]\n",
      "374   [-0.634921]    [0.626984]  [7]\n",
      "2007  [-0.229129]    [0.876669]  [4]\n",
      "2455   [0.912698]    [0.246032]  [1]\n",
      "591   [-0.587302]    [0.484127]  [5]\n",
      "...           ...           ...  ...\n",
      "139    [0.391986]    [0.745257]  [3]\n",
      "5341  [-0.119048]    [0.809524]  [4]\n",
      "2452          [0]  [0.00793651]  [0]\n",
      "984    [0.600506]     [0.13169]  [1]\n",
      "2553  [-0.319396]    [0.333914]  [7]\n",
      "\n",
      "[3999 rows x 3 columns]\n"
     ]
    }
   ],
   "source": [
    "# Obtener una lista de todos los archivos en el subdirectorio\n",
    "file_list = os.listdir(os.path.join(validation_path, \"annotations\"))\n",
    "# Init general dictionary to store all annotations\n",
    "annotations_dict = dict()\n",
    "# Iterate through all archives\n",
    "for file in file_list:\n",
    "    if file.endswith(\".npy\"):\n",
    "        # Get the file id\n",
    "        photo_idx = file.split(\"_\")[0]\n",
    "        # Load npy archive\n",
    "        data = np.load(os.path.join(validation_path,\"annotations\", file))\n",
    "        \n",
    "        if photo_idx not in annotations_dict:\n",
    "            annotations_dict[photo_idx] = [[],[],[]]\n",
    "\n",
    "        type_of_data = file.split(\"_\")[1].split(\".\")[0]\n",
    "        if type_of_data == \"val\":\n",
    "            annotations_dict[photo_idx][0].append(data.item())\n",
    "        elif type_of_data == \"aro\":\n",
    "            annotations_dict[photo_idx][1].append(data.item())\n",
    "        elif type_of_data == \"exp\":\n",
    "            annotations_dict[photo_idx][2].append(data.item())\n",
    "\n",
    "# Convert annotations dictionary to DataFrame\n",
    "annotations = pd.DataFrame.from_dict(annotations_dict, orient='index', columns=['val', 'aro', 'exp'])\n",
    "\n",
    "# Print the DataFrame\n",
    "print(annotations)"
   ]
  },
  {
   "cell_type": "markdown",
   "metadata": {},
   "source": [
    "Count how many have more than one annotation"
   ]
  },
  {
   "cell_type": "code",
   "execution_count": 4,
   "metadata": {},
   "outputs": [],
   "source": [
    "more_annot = []\n",
    "for index, row in annotations.iterrows():\n",
    "    if len(row['val']) > 1 | len(row['aro']) > 1 | len(row['exp']) > 1:\n",
    "        more_annot.append(index)\n",
    "print(\"There are {} files with more than one annotation\".format(len(more_annot)))"
   ]
  },
  {
   "cell_type": "markdown",
   "metadata": {},
   "source": [
    "We redefine pandas to have only the items, not the vectors."
   ]
  },
  {
   "cell_type": "code",
   "execution_count": null,
   "metadata": {},
   "outputs": [
    {
     "name": "stdout",
     "output_type": "stream",
     "text": [
      "Empty DataFrame\n",
      "Columns: [val, aro, exp]\n",
      "Index: []\n"
     ]
    },
    {
     "name": "stderr",
     "output_type": "stream",
     "text": [
      "/tmp/ipykernel_626614/1257170533.py:1: FutureWarning: DataFrame.applymap has been deprecated. Use DataFrame.map instead.\n",
      "  annotations = annotations.applymap(lambda x: x[0] if isinstance(x, list) else x)\n"
     ]
    }
   ],
   "source": [
    "annotations = annotations.applymap(lambda x: x[0] if isinstance(x, list) else x)\n",
    "print(annotations)"
   ]
  },
  {
   "cell_type": "markdown",
   "metadata": {},
   "source": [
    "Correspond to the number of images and each one has its own annotation."
   ]
  },
  {
   "cell_type": "code",
   "execution_count": null,
   "metadata": {},
   "outputs": [],
   "source": [
    "annotations = annotations.assign(path='')"
   ]
  },
  {
   "cell_type": "code",
   "execution_count": null,
   "metadata": {},
   "outputs": [
    {
     "name": "stdout",
     "output_type": "stream",
     "text": [
      "Empty DataFrame\n",
      "Columns: [val, aro, exp]\n",
      "Index: []\n"
     ]
    }
   ],
   "source": [
    "# Obtener una lista de todos los archivos en el subdirectorio\n",
    "file_list = os.listdir(os.path.join(validation_path, \"images\"))\n",
    "no_correspondence = []\n",
    "\n",
    "# Iterate through all archives\n",
    "for file in file_list:\n",
    "    if file.endswith(\".npy\"):\n",
    "        # Get the file id\n",
    "        photo_idx = file.split(\".\")[0]\n",
    "        if photo_idx not in annotations_dict:\n",
    "            no_correspondence.append(photo_idx)\n",
    "        \n",
    "\n",
    "# Print the DataFrame\n",
    "print(annotations)"
   ]
  },
  {
   "cell_type": "markdown",
   "metadata": {},
   "source": [
    "# Distribution of data:\n"
   ]
  },
  {
   "cell_type": "code",
   "execution_count": null,
   "metadata": {},
   "outputs": [],
   "source": []
  },
  {
   "cell_type": "markdown",
   "metadata": {},
   "source": []
  },
  {
   "cell_type": "code",
   "execution_count": null,
   "metadata": {},
   "outputs": [],
   "source": [
    "continuous_annotations = []\n",
    "for photo_idx in range(len(annotations[data_split])):\n",
    "    sample = annotations[data_split].iloc[photo_idx]\n",
    "    for person in range (sample['people']):\n",
    "            labels = {'valence': sample[\"label_cont\"][person][0],\n",
    "             'arousal': sample[\"label_cont\"][person][1],\n",
    "             'dominance': sample[\"label_cont\"][person][2]}\n",
    "            continuous_annotations.append(labels)\n",
    "\n",
    "# Create a dataframe with sample data\n",
    "continuous_annotations = pd.DataFrame(continuous_annotations).dropna()"
   ]
  },
  {
   "cell_type": "code",
   "execution_count": null,
   "metadata": {},
   "outputs": [],
   "source": [
    "# Transform the data for ridge plot\n",
    "continuous_annotations_rowed = pd.melt(continuous_annotations, var_name='Variable', value_name='Value')"
   ]
  },
  {
   "cell_type": "code",
   "execution_count": null,
   "metadata": {},
   "outputs": [
    {
     "ename": "NameError",
     "evalue": "name 'alt' is not defined",
     "output_type": "error",
     "traceback": [
      "\u001b[0;31m---------------------------------------------------------------------------\u001b[0m",
      "\u001b[0;31mNameError\u001b[0m                                 Traceback (most recent call last)",
      "Cell \u001b[0;32mIn[46], line 12\u001b[0m\n\u001b[1;32m      5\u001b[0m max_count \u001b[38;5;241m=\u001b[39m \u001b[38;5;28mmax\u001b[39m(\n\u001b[1;32m      6\u001b[0m     continuous_annotations_rowed[continuous_annotations_rowed[\u001b[38;5;124m'\u001b[39m\u001b[38;5;124mVariable\u001b[39m\u001b[38;5;124m'\u001b[39m] \u001b[38;5;241m==\u001b[39m \u001b[38;5;124m'\u001b[39m\u001b[38;5;124mvalence\u001b[39m\u001b[38;5;124m'\u001b[39m][\u001b[38;5;124m'\u001b[39m\u001b[38;5;124mValue\u001b[39m\u001b[38;5;124m'\u001b[39m]\u001b[38;5;241m.\u001b[39mvalue_counts()\u001b[38;5;241m.\u001b[39mmax(),\n\u001b[1;32m      7\u001b[0m     continuous_annotations_rowed[continuous_annotations_rowed[\u001b[38;5;124m'\u001b[39m\u001b[38;5;124mVariable\u001b[39m\u001b[38;5;124m'\u001b[39m] \u001b[38;5;241m==\u001b[39m \u001b[38;5;124m'\u001b[39m\u001b[38;5;124marousal\u001b[39m\u001b[38;5;124m'\u001b[39m][\u001b[38;5;124m'\u001b[39m\u001b[38;5;124mValue\u001b[39m\u001b[38;5;124m'\u001b[39m]\u001b[38;5;241m.\u001b[39mvalue_counts()\u001b[38;5;241m.\u001b[39mmax(),\n\u001b[1;32m      8\u001b[0m     continuous_annotations_rowed[continuous_annotations_rowed[\u001b[38;5;124m'\u001b[39m\u001b[38;5;124mVariable\u001b[39m\u001b[38;5;124m'\u001b[39m] \u001b[38;5;241m==\u001b[39m \u001b[38;5;124m'\u001b[39m\u001b[38;5;124mdominance\u001b[39m\u001b[38;5;124m'\u001b[39m][\u001b[38;5;124m'\u001b[39m\u001b[38;5;124mValue\u001b[39m\u001b[38;5;124m'\u001b[39m]\u001b[38;5;241m.\u001b[39mvalue_counts()\u001b[38;5;241m.\u001b[39mmax()\n\u001b[1;32m      9\u001b[0m )\n\u001b[1;32m     11\u001b[0m \u001b[38;5;66;03m# Create a histogram\u001b[39;00m\n\u001b[0;32m---> 12\u001b[0m valence_hist \u001b[38;5;241m=\u001b[39m \u001b[43malt\u001b[49m\u001b[38;5;241m.\u001b[39mChart(continuous_annotations_rowed)\u001b[38;5;241m.\u001b[39mmark_bar(color \u001b[38;5;241m=\u001b[39m \u001b[38;5;124m\"\u001b[39m\u001b[38;5;124msteelblue\u001b[39m\u001b[38;5;124m\"\u001b[39m, width\u001b[38;5;241m=\u001b[39m \u001b[38;5;241m20\u001b[39m)\u001b[38;5;241m.\u001b[39mencode(\n\u001b[1;32m     13\u001b[0m     alt\u001b[38;5;241m.\u001b[39mX(\u001b[38;5;124m\"\u001b[39m\u001b[38;5;124mValue\u001b[39m\u001b[38;5;124m\"\u001b[39m, scale\u001b[38;5;241m=\u001b[39malt\u001b[38;5;241m.\u001b[39mScale(domain\u001b[38;5;241m=\u001b[39mvalue_range)),\n\u001b[1;32m     14\u001b[0m     alt\u001b[38;5;241m.\u001b[39mY(\u001b[38;5;124m'\u001b[39m\u001b[38;5;124mcount()\u001b[39m\u001b[38;5;124m'\u001b[39m, scale\u001b[38;5;241m=\u001b[39malt\u001b[38;5;241m.\u001b[39mScale(domain\u001b[38;5;241m=\u001b[39m[\u001b[38;5;241m0\u001b[39m, max_count])),\n\u001b[1;32m     15\u001b[0m )\u001b[38;5;241m.\u001b[39mtransform_filter(\n\u001b[1;32m     16\u001b[0m     alt\u001b[38;5;241m.\u001b[39mdatum\u001b[38;5;241m.\u001b[39mVariable \u001b[38;5;241m==\u001b[39m \u001b[38;5;124m'\u001b[39m\u001b[38;5;124mvalence\u001b[39m\u001b[38;5;124m'\u001b[39m\n\u001b[1;32m     17\u001b[0m )\u001b[38;5;241m.\u001b[39mproperties(\n\u001b[1;32m     18\u001b[0m     title \u001b[38;5;241m=\u001b[39m alt\u001b[38;5;241m.\u001b[39mTitleParams(text \u001b[38;5;241m=\u001b[39m \u001b[38;5;124m'\u001b[39m\u001b[38;5;124mValence Distribution\u001b[39m\u001b[38;5;124m'\u001b[39m, fontSize\u001b[38;5;241m=\u001b[39m\u001b[38;5;241m16\u001b[39m),\n\u001b[1;32m     19\u001b[0m     width \u001b[38;5;241m=\u001b[39m \u001b[38;5;241m300\u001b[39m,\n\u001b[1;32m     20\u001b[0m     height \u001b[38;5;241m=\u001b[39m \u001b[38;5;241m400\u001b[39m\n\u001b[1;32m     21\u001b[0m )\n\u001b[1;32m     23\u001b[0m \u001b[38;5;66;03m# Create a histogram\u001b[39;00m\n\u001b[1;32m     24\u001b[0m arousal_hist \u001b[38;5;241m=\u001b[39m alt\u001b[38;5;241m.\u001b[39mChart(continuous_annotations_rowed)\u001b[38;5;241m.\u001b[39mmark_bar(color \u001b[38;5;241m=\u001b[39m \u001b[38;5;124m\"\u001b[39m\u001b[38;5;124msteelblue\u001b[39m\u001b[38;5;124m\"\u001b[39m, width\u001b[38;5;241m=\u001b[39m \u001b[38;5;241m20\u001b[39m)\u001b[38;5;241m.\u001b[39mencode(\n\u001b[1;32m     25\u001b[0m     alt\u001b[38;5;241m.\u001b[39mX(\u001b[38;5;124m\"\u001b[39m\u001b[38;5;124mValue\u001b[39m\u001b[38;5;124m\"\u001b[39m, scale\u001b[38;5;241m=\u001b[39malt\u001b[38;5;241m.\u001b[39mScale(domain\u001b[38;5;241m=\u001b[39mvalue_range)),\n\u001b[1;32m     26\u001b[0m     alt\u001b[38;5;241m.\u001b[39mY(\u001b[38;5;124m'\u001b[39m\u001b[38;5;124mcount()\u001b[39m\u001b[38;5;124m'\u001b[39m, scale\u001b[38;5;241m=\u001b[39malt\u001b[38;5;241m.\u001b[39mScale(domain\u001b[38;5;241m=\u001b[39m[\u001b[38;5;241m0\u001b[39m, max_count])),\n\u001b[0;32m   (...)\u001b[0m\n\u001b[1;32m     32\u001b[0m     height \u001b[38;5;241m=\u001b[39m \u001b[38;5;241m400\u001b[39m\n\u001b[1;32m     33\u001b[0m )\n",
      "\u001b[0;31mNameError\u001b[0m: name 'alt' is not defined"
     ]
    }
   ],
   "source": [
    "# Define the range\n",
    "value_range = [continuous_annotations_rowed['Value'].min(), continuous_annotations_rowed['Value'].max()]\n",
    "\n",
    "# Calculate the maximum count across all variables\n",
    "max_count = max(\n",
    "    continuous_annotations_rowed[continuous_annotations_rowed['Variable'] == 'valence']['Value'].value_counts().max(),\n",
    "    continuous_annotations_rowed[continuous_annotations_rowed['Variable'] == 'arousal']['Value'].value_counts().max(),\n",
    "    continuous_annotations_rowed[continuous_annotations_rowed['Variable'] == 'dominance']['Value'].value_counts().max()\n",
    ")\n",
    "\n",
    "# Create a histogram\n",
    "valence_hist = alt.Chart(continuous_annotations_rowed).mark_bar(color = \"steelblue\", width= 20).encode(\n",
    "    alt.X(\"Value\", scale=alt.Scale(domain=value_range)),\n",
    "    alt.Y('count()', scale=alt.Scale(domain=[0, max_count])),\n",
    ").transform_filter(\n",
    "    alt.datum.Variable == 'valence'\n",
    ").properties(\n",
    "    title = alt.TitleParams(text = 'Valence Distribution', fontSize=16),\n",
    "    width = 300,\n",
    "    height = 400\n",
    ")\n",
    "\n",
    "# Create a histogram\n",
    "arousal_hist = alt.Chart(continuous_annotations_rowed).mark_bar(color = \"steelblue\", width= 20).encode(\n",
    "    alt.X(\"Value\", scale=alt.Scale(domain=value_range)),\n",
    "    alt.Y('count()', scale=alt.Scale(domain=[0, max_count])),\n",
    ").transform_filter(\n",
    "    alt.datum.Variable == 'arousal'\n",
    ").properties(\n",
    "    title = alt.TitleParams(text = 'Arousal Distribution', fontSize=16),\n",
    "    width = 300,\n",
    "    height = 400\n",
    ")\n",
    "\n",
    "# Create a histogram\n",
    "dominance_hist = alt.Chart(continuous_annotations_rowed).mark_bar(color = \"steelblue\", width= 20).encode(\n",
    "    alt.X(\"Value\", scale=alt.Scale(domain=value_range)),\n",
    "    alt.Y('count()', scale=alt.Scale(domain=[0, max_count])),\n",
    ").transform_filter(\n",
    "    alt.datum.Variable == 'dominance'\n",
    ").properties(\n",
    "    title = alt.TitleParams(text = 'Dominance Distribution', fontSize=16),\n",
    "    width = 300,\n",
    "    height = 400\n",
    ")\n",
    "# Concatenate the lollipop chart and bar chart horizontally\n",
    "combined_chart = alt.hconcat(valence_hist, arousal_hist, dominance_hist).resolve_scale(y='shared').properties(\n",
    "    title=alt.TitleParams(text = \"Continuous annotations distributions\", anchor='middle', fontSize=20, dy=-20),\n",
    ")\n",
    "combined_chart"
   ]
  }
 ],
 "metadata": {
  "kernelspec": {
   "display_name": "Python 3 (ipykernel)",
   "language": "python",
   "name": "python3"
  },
  "language_info": {
   "codemirror_mode": {
    "name": "ipython",
    "version": 3
   },
   "file_extension": ".py",
   "mimetype": "text/x-python",
   "name": "python",
   "nbconvert_exporter": "python",
   "pygments_lexer": "ipython3",
   "version": "3.10.12"
  }
 },
 "nbformat": 4,
 "nbformat_minor": 2
}
